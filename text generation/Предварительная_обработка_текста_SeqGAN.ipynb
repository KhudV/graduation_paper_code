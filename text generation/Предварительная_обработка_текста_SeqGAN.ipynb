{
  "nbformat": 4,
  "nbformat_minor": 0,
  "metadata": {
    "colab": {
      "provenance": [],
      "include_colab_link": true
    },
    "kernelspec": {
      "name": "python3",
      "display_name": "Python 3"
    }
  },
  "cells": [
    {
      "cell_type": "markdown",
      "metadata": {
        "id": "view-in-github",
        "colab_type": "text"
      },
      "source": [
        "<a href=\"https://colab.research.google.com/github/KhudV/graduation_paper_code/blob/main/text%20generation/%D0%9F%D1%80%D0%B5%D0%B4%D0%B2%D0%B0%D1%80%D0%B8%D1%82%D0%B5%D0%BB%D1%8C%D0%BD%D0%B0%D1%8F_%D0%BE%D0%B1%D1%80%D0%B0%D0%B1%D0%BE%D1%82%D0%BA%D0%B0_%D1%82%D0%B5%D0%BA%D1%81%D1%82%D0%B0_SeqGAN.ipynb\" target=\"_parent\"><img src=\"https://colab.research.google.com/assets/colab-badge.svg\" alt=\"Open In Colab\"/></a>"
      ]
    },
    {
      "cell_type": "code",
      "metadata": {
        "id": "3ZGSSarWFn7m",
        "colab": {
          "base_uri": "https://localhost:8080/"
        },
        "outputId": "21380e88-0989-4f23-e5e5-2db435e597a9"
      },
      "source": [
        "from google.colab import drive\n",
        "drive.mount('/content/drive')"
      ],
      "execution_count": null,
      "outputs": [
        {
          "output_type": "stream",
          "name": "stdout",
          "text": [
            "Drive already mounted at /content/drive; to attempt to forcibly remount, call drive.mount(\"/content/drive\", force_remount=True).\n"
          ]
        }
      ]
    },
    {
      "cell_type": "markdown",
      "metadata": {
        "id": "9JfjJI1L8_sk"
      },
      "source": [
        "Обработка текста"
      ]
    },
    {
      "cell_type": "code",
      "metadata": {
        "id": "kMcRcK5xqxPq"
      },
      "source": [
        "max_n_sent = 46\n",
        "min_n_sent = 2"
      ],
      "execution_count": null,
      "outputs": []
    },
    {
      "cell_type": "code",
      "metadata": {
        "id": "LaZnnQ0IxaK3",
        "colab": {
          "base_uri": "https://localhost:8080/",
          "height": 337
        },
        "outputId": "99d3b0a9-ddcc-4186-a502-3c7be451432a"
      },
      "source": [
        "import pandas\n",
        "df = pandas.read_csv('/content/drive/MyDrive/ВКР/SeqGAN/datasets/netflix_titles.csv')\n",
        "df.head()"
      ],
      "execution_count": null,
      "outputs": [
        {
          "output_type": "execute_result",
          "data": {
            "text/plain": [
              "  show_id     type                  title         director  \\\n",
              "0      s1    Movie   Dick Johnson Is Dead  Kirsten Johnson   \n",
              "1      s2  TV Show          Blood & Water              NaN   \n",
              "2      s3  TV Show              Ganglands  Julien Leclercq   \n",
              "3      s4  TV Show  Jailbirds New Orleans              NaN   \n",
              "4      s5  TV Show           Kota Factory              NaN   \n",
              "\n",
              "                                                cast        country  \\\n",
              "0                                                NaN  United States   \n",
              "1  Ama Qamata, Khosi Ngema, Gail Mabalane, Thaban...   South Africa   \n",
              "2  Sami Bouajila, Tracy Gotoas, Samuel Jouy, Nabi...            NaN   \n",
              "3                                                NaN            NaN   \n",
              "4  Mayur More, Jitendra Kumar, Ranjan Raj, Alam K...          India   \n",
              "\n",
              "           date_added  release_year rating   duration  \\\n",
              "0  September 25, 2021          2020  PG-13     90 min   \n",
              "1  September 24, 2021          2021  TV-MA  2 Seasons   \n",
              "2  September 24, 2021          2021  TV-MA   1 Season   \n",
              "3  September 24, 2021          2021  TV-MA   1 Season   \n",
              "4  September 24, 2021          2021  TV-MA  2 Seasons   \n",
              "\n",
              "                                           listed_in  \\\n",
              "0                                      Documentaries   \n",
              "1    International TV Shows, TV Dramas, TV Mysteries   \n",
              "2  Crime TV Shows, International TV Shows, TV Act...   \n",
              "3                             Docuseries, Reality TV   \n",
              "4  International TV Shows, Romantic TV Shows, TV ...   \n",
              "\n",
              "                                         description  \n",
              "0  As her father nears the end of his life, filmm...  \n",
              "1  After crossing paths at a party, a Cape Town t...  \n",
              "2  To protect his family from a powerful drug lor...  \n",
              "3  Feuds, flirtations and toilet talk go down amo...  \n",
              "4  In a city of coaching centers known to train I...  "
            ],
            "text/html": [
              "\n",
              "  <div id=\"df-b85373a0-1e6b-4d5c-b68a-8696bdea975a\">\n",
              "    <div class=\"colab-df-container\">\n",
              "      <div>\n",
              "<style scoped>\n",
              "    .dataframe tbody tr th:only-of-type {\n",
              "        vertical-align: middle;\n",
              "    }\n",
              "\n",
              "    .dataframe tbody tr th {\n",
              "        vertical-align: top;\n",
              "    }\n",
              "\n",
              "    .dataframe thead th {\n",
              "        text-align: right;\n",
              "    }\n",
              "</style>\n",
              "<table border=\"1\" class=\"dataframe\">\n",
              "  <thead>\n",
              "    <tr style=\"text-align: right;\">\n",
              "      <th></th>\n",
              "      <th>show_id</th>\n",
              "      <th>type</th>\n",
              "      <th>title</th>\n",
              "      <th>director</th>\n",
              "      <th>cast</th>\n",
              "      <th>country</th>\n",
              "      <th>date_added</th>\n",
              "      <th>release_year</th>\n",
              "      <th>rating</th>\n",
              "      <th>duration</th>\n",
              "      <th>listed_in</th>\n",
              "      <th>description</th>\n",
              "    </tr>\n",
              "  </thead>\n",
              "  <tbody>\n",
              "    <tr>\n",
              "      <th>0</th>\n",
              "      <td>s1</td>\n",
              "      <td>Movie</td>\n",
              "      <td>Dick Johnson Is Dead</td>\n",
              "      <td>Kirsten Johnson</td>\n",
              "      <td>NaN</td>\n",
              "      <td>United States</td>\n",
              "      <td>September 25, 2021</td>\n",
              "      <td>2020</td>\n",
              "      <td>PG-13</td>\n",
              "      <td>90 min</td>\n",
              "      <td>Documentaries</td>\n",
              "      <td>As her father nears the end of his life, filmm...</td>\n",
              "    </tr>\n",
              "    <tr>\n",
              "      <th>1</th>\n",
              "      <td>s2</td>\n",
              "      <td>TV Show</td>\n",
              "      <td>Blood &amp; Water</td>\n",
              "      <td>NaN</td>\n",
              "      <td>Ama Qamata, Khosi Ngema, Gail Mabalane, Thaban...</td>\n",
              "      <td>South Africa</td>\n",
              "      <td>September 24, 2021</td>\n",
              "      <td>2021</td>\n",
              "      <td>TV-MA</td>\n",
              "      <td>2 Seasons</td>\n",
              "      <td>International TV Shows, TV Dramas, TV Mysteries</td>\n",
              "      <td>After crossing paths at a party, a Cape Town t...</td>\n",
              "    </tr>\n",
              "    <tr>\n",
              "      <th>2</th>\n",
              "      <td>s3</td>\n",
              "      <td>TV Show</td>\n",
              "      <td>Ganglands</td>\n",
              "      <td>Julien Leclercq</td>\n",
              "      <td>Sami Bouajila, Tracy Gotoas, Samuel Jouy, Nabi...</td>\n",
              "      <td>NaN</td>\n",
              "      <td>September 24, 2021</td>\n",
              "      <td>2021</td>\n",
              "      <td>TV-MA</td>\n",
              "      <td>1 Season</td>\n",
              "      <td>Crime TV Shows, International TV Shows, TV Act...</td>\n",
              "      <td>To protect his family from a powerful drug lor...</td>\n",
              "    </tr>\n",
              "    <tr>\n",
              "      <th>3</th>\n",
              "      <td>s4</td>\n",
              "      <td>TV Show</td>\n",
              "      <td>Jailbirds New Orleans</td>\n",
              "      <td>NaN</td>\n",
              "      <td>NaN</td>\n",
              "      <td>NaN</td>\n",
              "      <td>September 24, 2021</td>\n",
              "      <td>2021</td>\n",
              "      <td>TV-MA</td>\n",
              "      <td>1 Season</td>\n",
              "      <td>Docuseries, Reality TV</td>\n",
              "      <td>Feuds, flirtations and toilet talk go down amo...</td>\n",
              "    </tr>\n",
              "    <tr>\n",
              "      <th>4</th>\n",
              "      <td>s5</td>\n",
              "      <td>TV Show</td>\n",
              "      <td>Kota Factory</td>\n",
              "      <td>NaN</td>\n",
              "      <td>Mayur More, Jitendra Kumar, Ranjan Raj, Alam K...</td>\n",
              "      <td>India</td>\n",
              "      <td>September 24, 2021</td>\n",
              "      <td>2021</td>\n",
              "      <td>TV-MA</td>\n",
              "      <td>2 Seasons</td>\n",
              "      <td>International TV Shows, Romantic TV Shows, TV ...</td>\n",
              "      <td>In a city of coaching centers known to train I...</td>\n",
              "    </tr>\n",
              "  </tbody>\n",
              "</table>\n",
              "</div>\n",
              "      <button class=\"colab-df-convert\" onclick=\"convertToInteractive('df-b85373a0-1e6b-4d5c-b68a-8696bdea975a')\"\n",
              "              title=\"Convert this dataframe to an interactive table.\"\n",
              "              style=\"display:none;\">\n",
              "        \n",
              "  <svg xmlns=\"http://www.w3.org/2000/svg\" height=\"24px\"viewBox=\"0 0 24 24\"\n",
              "       width=\"24px\">\n",
              "    <path d=\"M0 0h24v24H0V0z\" fill=\"none\"/>\n",
              "    <path d=\"M18.56 5.44l.94 2.06.94-2.06 2.06-.94-2.06-.94-.94-2.06-.94 2.06-2.06.94zm-11 1L8.5 8.5l.94-2.06 2.06-.94-2.06-.94L8.5 2.5l-.94 2.06-2.06.94zm10 10l.94 2.06.94-2.06 2.06-.94-2.06-.94-.94-2.06-.94 2.06-2.06.94z\"/><path d=\"M17.41 7.96l-1.37-1.37c-.4-.4-.92-.59-1.43-.59-.52 0-1.04.2-1.43.59L10.3 9.45l-7.72 7.72c-.78.78-.78 2.05 0 2.83L4 21.41c.39.39.9.59 1.41.59.51 0 1.02-.2 1.41-.59l7.78-7.78 2.81-2.81c.8-.78.8-2.07 0-2.86zM5.41 20L4 18.59l7.72-7.72 1.47 1.35L5.41 20z\"/>\n",
              "  </svg>\n",
              "      </button>\n",
              "      \n",
              "  <style>\n",
              "    .colab-df-container {\n",
              "      display:flex;\n",
              "      flex-wrap:wrap;\n",
              "      gap: 12px;\n",
              "    }\n",
              "\n",
              "    .colab-df-convert {\n",
              "      background-color: #E8F0FE;\n",
              "      border: none;\n",
              "      border-radius: 50%;\n",
              "      cursor: pointer;\n",
              "      display: none;\n",
              "      fill: #1967D2;\n",
              "      height: 32px;\n",
              "      padding: 0 0 0 0;\n",
              "      width: 32px;\n",
              "    }\n",
              "\n",
              "    .colab-df-convert:hover {\n",
              "      background-color: #E2EBFA;\n",
              "      box-shadow: 0px 1px 2px rgba(60, 64, 67, 0.3), 0px 1px 3px 1px rgba(60, 64, 67, 0.15);\n",
              "      fill: #174EA6;\n",
              "    }\n",
              "\n",
              "    [theme=dark] .colab-df-convert {\n",
              "      background-color: #3B4455;\n",
              "      fill: #D2E3FC;\n",
              "    }\n",
              "\n",
              "    [theme=dark] .colab-df-convert:hover {\n",
              "      background-color: #434B5C;\n",
              "      box-shadow: 0px 1px 3px 1px rgba(0, 0, 0, 0.15);\n",
              "      filter: drop-shadow(0px 1px 2px rgba(0, 0, 0, 0.3));\n",
              "      fill: #FFFFFF;\n",
              "    }\n",
              "  </style>\n",
              "\n",
              "      <script>\n",
              "        const buttonEl =\n",
              "          document.querySelector('#df-b85373a0-1e6b-4d5c-b68a-8696bdea975a button.colab-df-convert');\n",
              "        buttonEl.style.display =\n",
              "          google.colab.kernel.accessAllowed ? 'block' : 'none';\n",
              "\n",
              "        async function convertToInteractive(key) {\n",
              "          const element = document.querySelector('#df-b85373a0-1e6b-4d5c-b68a-8696bdea975a');\n",
              "          const dataTable =\n",
              "            await google.colab.kernel.invokeFunction('convertToInteractive',\n",
              "                                                     [key], {});\n",
              "          if (!dataTable) return;\n",
              "\n",
              "          const docLinkHtml = 'Like what you see? Visit the ' +\n",
              "            '<a target=\"_blank\" href=https://colab.research.google.com/notebooks/data_table.ipynb>data table notebook</a>'\n",
              "            + ' to learn more about interactive tables.';\n",
              "          element.innerHTML = '';\n",
              "          dataTable['output_type'] = 'display_data';\n",
              "          await google.colab.output.renderOutput(dataTable, element);\n",
              "          const docLink = document.createElement('div');\n",
              "          docLink.innerHTML = docLinkHtml;\n",
              "          element.appendChild(docLink);\n",
              "        }\n",
              "      </script>\n",
              "    </div>\n",
              "  </div>\n",
              "  "
            ]
          },
          "metadata": {},
          "execution_count": 41
        }
      ]
    },
    {
      "cell_type": "code",
      "metadata": {
        "id": "qxFk-2b0yS9N",
        "colab": {
          "base_uri": "https://localhost:8080/"
        },
        "outputId": "d15ea673-3882-40aa-9a96-fb2b68e0151a"
      },
      "source": [
        "import numpy as np\n",
        "text = ' '.join(df['description'].values)\n",
        "print('Всего символов:', len(text))"
      ],
      "execution_count": null,
      "outputs": [
        {
          "output_type": "stream",
          "name": "stdout",
          "text": [
            "Всего символов: 1270877\n"
          ]
        }
      ]
    },
    {
      "cell_type": "code",
      "metadata": {
        "id": "XsO0gbgZJX8v",
        "colab": {
          "base_uri": "https://localhost:8080/"
        },
        "outputId": "31fea5a9-ff88-4290-e88f-a37ae21a2a8f"
      },
      "source": [
        "import nltk\n",
        "nltk.download('punkt')"
      ],
      "execution_count": null,
      "outputs": [
        {
          "output_type": "stream",
          "name": "stderr",
          "text": [
            "[nltk_data] Downloading package punkt to /root/nltk_data...\n",
            "[nltk_data]   Package punkt is already up-to-date!\n"
          ]
        },
        {
          "output_type": "execute_result",
          "data": {
            "text/plain": [
              "True"
            ]
          },
          "metadata": {},
          "execution_count": 44
        }
      ]
    },
    {
      "cell_type": "code",
      "metadata": {
        "id": "fUtaVaTSMnuE"
      },
      "source": [
        "text = text.lower()"
      ],
      "execution_count": null,
      "outputs": []
    },
    {
      "cell_type": "code",
      "metadata": {
        "id": "YY0jgL5GNx3R"
      },
      "source": [
        "# количество упоминаний каждого слова (http://nlpx.net/archives/29)\n",
        "from collections import Counter\n",
        "\n",
        "cntr = Counter(nltk.word_tokenize(text)) # подсчет упоминаний"
      ],
      "execution_count": null,
      "outputs": []
    },
    {
      "cell_type": "code",
      "metadata": {
        "id": "c35YKQSasOtX",
        "colab": {
          "base_uri": "https://localhost:8080/"
        },
        "outputId": "5e09a95c-abf8-427a-ac5e-e93f2799c1e0"
      },
      "source": [
        "print(\"Всего слов: \", len(list(cntr.most_common(10000000))))"
      ],
      "execution_count": null,
      "outputs": [
        {
          "output_type": "stream",
          "name": "stdout",
          "text": [
            "Всего слов:  20659\n"
          ]
        }
      ]
    },
    {
      "cell_type": "code",
      "metadata": {
        "id": "nUuqWGWO3Z-u"
      },
      "source": [
        "most_words = list(cntr.most_common(20659)) # наиболее частые N-1 слов (добавится заполнитель)\n",
        "# most_words = cntr.elements() # вернуть слова"
      ],
      "execution_count": null,
      "outputs": []
    },
    {
      "cell_type": "code",
      "metadata": {
        "id": "kAh7Q0CiGyWh",
        "colab": {
          "base_uri": "https://localhost:8080/"
        },
        "outputId": "adc59bec-ab7d-4e3a-9886-525942e6cc99"
      },
      "source": [
        "print('Количество упоминаний самого редкого слова до обработки текста:', most_words[-1][0], most_words[-1][1])"
      ],
      "execution_count": null,
      "outputs": [
        {
          "output_type": "stream",
          "name": "stdout",
          "text": [
            "Количество упоминаний самого редкого слова до обработки текста: roughneck 1\n"
          ]
        }
      ]
    },
    {
      "cell_type": "code",
      "metadata": {
        "id": "BXCIB-XGOofr",
        "colab": {
          "base_uri": "https://localhost:8080/"
        },
        "outputId": "db677304-20cb-45e3-da74-0153ce899509"
      },
      "source": [
        "# создание словаря слов\n",
        "vocab = dict()\n",
        "for i in range(len(most_words)):\n",
        "  vocab[most_words[i][0]] = i\n",
        "vocab['']=len(vocab) # добавить пробел (заполнитель)\n",
        "vocab['_UNK_']=len(vocab) # добавить удаленное слово (удаляемые слова заменяются этим словом)\n",
        "vocab['_START_']=len(vocab) # добавить стартовое слово в словарь\n",
        "\n",
        "d = vocab\n",
        "list_d = list(d.items())\n",
        "list_d.sort(key=lambda i: i[1])\n",
        "\n",
        "word = []\n",
        "for i in range(len(list_d)):\n",
        "  word.append(list_d[i][0])\n",
        "print('Слов в словаре:', len(word))"
      ],
      "execution_count": null,
      "outputs": [
        {
          "output_type": "stream",
          "name": "stdout",
          "text": [
            "Слов в словаре: 20662\n"
          ]
        }
      ]
    },
    {
      "cell_type": "code",
      "metadata": {
        "id": "6XGcbXaoSew8"
      },
      "source": [
        "# разделение текста на предложения и слова (если в выборке есть знаки препинания, то примером считается предложение)\n",
        "text_processed = []\n",
        "for sent in nltk.sent_tokenize(text):\n",
        "  text_processed.append(nltk.word_tokenize(sent))\n",
        "\n",
        "# разделение текста на строки и слова (если в выборке нет знаков препинания или примеры разделены построчно, то примером считается строка)\n",
        "#text_processed = []\n",
        "#sets = text.split('\\n') # -|-\n",
        "#for i, sent in enumerate(sets):\n",
        "#  if(i%(len(sets)//10)==0):\n",
        "#    print(float(i)/float(len(sets)), '%')\n",
        "#  text_processed.append(nltk.word_tokenize(sent))"
      ],
      "execution_count": null,
      "outputs": []
    },
    {
      "cell_type": "code",
      "metadata": {
        "id": "It0ijKlAu_8Q",
        "colab": {
          "base_uri": "https://localhost:8080/"
        },
        "outputId": "34950a78-f80e-475e-f2ca-ff8790d97dbc"
      },
      "source": [
        "min_len = len(text_processed[0])\n",
        "max_len = len(text_processed[0])\n",
        "\n",
        "sr_len = 0\n",
        "for i in range(len(text_processed)):\n",
        "  sr_len += len(text_processed[i])\n",
        "  min_len = min(min_len, len(text_processed[i]))\n",
        "  max_len = max(max_len, len(text_processed[i]))\n",
        "\n",
        "print(\"Предложений: \", len(text_processed))\n",
        "print(\"Минимальная длина\", min_len)\n",
        "print(\"Средняя длина\", sr_len/len(text_processed))\n",
        "print(\"Максимальная длина\", max_len)\n",
        "print(\"Количество слов\", sr_len)"
      ],
      "execution_count": null,
      "outputs": [
        {
          "output_type": "stream",
          "name": "stdout",
          "text": [
            "Предложений:  9672\n",
            "Минимальная длина 2\n",
            "Средняя длина 24.122828784119108\n",
            "Максимальная длина 65\n",
            "Количество слов 233316\n"
          ]
        }
      ]
    },
    {
      "cell_type": "code",
      "metadata": {
        "id": "B8zdfx2uUWlA",
        "colab": {
          "base_uri": "https://localhost:8080/"
        },
        "outputId": "23b2ca87-ab91-461d-92fe-2e5bc210eb4d"
      },
      "source": [
        "# удаление коротких и длиных примеров\n",
        "DEL_sentences=0\n",
        "len_texts = len(text_processed)\n",
        "\n",
        "i=0\n",
        "ii=0\n",
        "while i < len(text_processed):\n",
        "  if(ii%(len_texts//100) == 0):\n",
        "    print(ii//(len_texts//100), u'В обработке: ', len(text_processed), u\"Удалено:\", DEL_sentences, u'Сохранено: ', ii-DEL_sentences)\n",
        "  \n",
        "  if(len(text_processed[i]) < min_n_sent):# or len(text_processed[i]) > max_n_sent):#\n",
        "    del(text_processed[i])\n",
        "    DEL_sentences+=1\n",
        "  else:\n",
        "    text_processed[i] = text_processed[i][:max_n_sent]\n",
        "    i+=1\n",
        "  ii+=1\n",
        "print('Предложений: ', len(text_processed)) #112138 #214986 #571377"
      ],
      "execution_count": null,
      "outputs": [
        {
          "output_type": "stream",
          "name": "stdout",
          "text": [
            "0 В обработке:  9672 Удалено: 0 Сохранено:  0\n",
            "1 В обработке:  9672 Удалено: 0 Сохранено:  96\n",
            "2 В обработке:  9672 Удалено: 0 Сохранено:  192\n",
            "3 В обработке:  9672 Удалено: 0 Сохранено:  288\n",
            "4 В обработке:  9672 Удалено: 0 Сохранено:  384\n",
            "5 В обработке:  9672 Удалено: 0 Сохранено:  480\n",
            "6 В обработке:  9672 Удалено: 0 Сохранено:  576\n",
            "7 В обработке:  9672 Удалено: 0 Сохранено:  672\n",
            "8 В обработке:  9672 Удалено: 0 Сохранено:  768\n",
            "9 В обработке:  9672 Удалено: 0 Сохранено:  864\n",
            "10 В обработке:  9672 Удалено: 0 Сохранено:  960\n",
            "11 В обработке:  9672 Удалено: 0 Сохранено:  1056\n",
            "12 В обработке:  9672 Удалено: 0 Сохранено:  1152\n",
            "13 В обработке:  9672 Удалено: 0 Сохранено:  1248\n",
            "14 В обработке:  9672 Удалено: 0 Сохранено:  1344\n",
            "15 В обработке:  9672 Удалено: 0 Сохранено:  1440\n",
            "16 В обработке:  9672 Удалено: 0 Сохранено:  1536\n",
            "17 В обработке:  9672 Удалено: 0 Сохранено:  1632\n",
            "18 В обработке:  9672 Удалено: 0 Сохранено:  1728\n",
            "19 В обработке:  9672 Удалено: 0 Сохранено:  1824\n",
            "20 В обработке:  9672 Удалено: 0 Сохранено:  1920\n",
            "21 В обработке:  9672 Удалено: 0 Сохранено:  2016\n",
            "22 В обработке:  9672 Удалено: 0 Сохранено:  2112\n",
            "23 В обработке:  9672 Удалено: 0 Сохранено:  2208\n",
            "24 В обработке:  9672 Удалено: 0 Сохранено:  2304\n",
            "25 В обработке:  9672 Удалено: 0 Сохранено:  2400\n",
            "26 В обработке:  9672 Удалено: 0 Сохранено:  2496\n",
            "27 В обработке:  9672 Удалено: 0 Сохранено:  2592\n",
            "28 В обработке:  9672 Удалено: 0 Сохранено:  2688\n",
            "29 В обработке:  9672 Удалено: 0 Сохранено:  2784\n",
            "30 В обработке:  9672 Удалено: 0 Сохранено:  2880\n",
            "31 В обработке:  9672 Удалено: 0 Сохранено:  2976\n",
            "32 В обработке:  9672 Удалено: 0 Сохранено:  3072\n",
            "33 В обработке:  9672 Удалено: 0 Сохранено:  3168\n",
            "34 В обработке:  9672 Удалено: 0 Сохранено:  3264\n",
            "35 В обработке:  9672 Удалено: 0 Сохранено:  3360\n",
            "36 В обработке:  9672 Удалено: 0 Сохранено:  3456\n",
            "37 В обработке:  9672 Удалено: 0 Сохранено:  3552\n",
            "38 В обработке:  9672 Удалено: 0 Сохранено:  3648\n",
            "39 В обработке:  9672 Удалено: 0 Сохранено:  3744\n",
            "40 В обработке:  9672 Удалено: 0 Сохранено:  3840\n",
            "41 В обработке:  9672 Удалено: 0 Сохранено:  3936\n",
            "42 В обработке:  9672 Удалено: 0 Сохранено:  4032\n",
            "43 В обработке:  9672 Удалено: 0 Сохранено:  4128\n",
            "44 В обработке:  9672 Удалено: 0 Сохранено:  4224\n",
            "45 В обработке:  9672 Удалено: 0 Сохранено:  4320\n",
            "46 В обработке:  9672 Удалено: 0 Сохранено:  4416\n",
            "47 В обработке:  9672 Удалено: 0 Сохранено:  4512\n",
            "48 В обработке:  9672 Удалено: 0 Сохранено:  4608\n",
            "49 В обработке:  9672 Удалено: 0 Сохранено:  4704\n",
            "50 В обработке:  9672 Удалено: 0 Сохранено:  4800\n",
            "51 В обработке:  9672 Удалено: 0 Сохранено:  4896\n",
            "52 В обработке:  9672 Удалено: 0 Сохранено:  4992\n",
            "53 В обработке:  9672 Удалено: 0 Сохранено:  5088\n",
            "54 В обработке:  9672 Удалено: 0 Сохранено:  5184\n",
            "55 В обработке:  9672 Удалено: 0 Сохранено:  5280\n",
            "56 В обработке:  9672 Удалено: 0 Сохранено:  5376\n",
            "57 В обработке:  9672 Удалено: 0 Сохранено:  5472\n",
            "58 В обработке:  9672 Удалено: 0 Сохранено:  5568\n",
            "59 В обработке:  9672 Удалено: 0 Сохранено:  5664\n",
            "60 В обработке:  9672 Удалено: 0 Сохранено:  5760\n",
            "61 В обработке:  9672 Удалено: 0 Сохранено:  5856\n",
            "62 В обработке:  9672 Удалено: 0 Сохранено:  5952\n",
            "63 В обработке:  9672 Удалено: 0 Сохранено:  6048\n",
            "64 В обработке:  9672 Удалено: 0 Сохранено:  6144\n",
            "65 В обработке:  9672 Удалено: 0 Сохранено:  6240\n",
            "66 В обработке:  9672 Удалено: 0 Сохранено:  6336\n",
            "67 В обработке:  9672 Удалено: 0 Сохранено:  6432\n",
            "68 В обработке:  9672 Удалено: 0 Сохранено:  6528\n",
            "69 В обработке:  9672 Удалено: 0 Сохранено:  6624\n",
            "70 В обработке:  9672 Удалено: 0 Сохранено:  6720\n",
            "71 В обработке:  9672 Удалено: 0 Сохранено:  6816\n",
            "72 В обработке:  9672 Удалено: 0 Сохранено:  6912\n",
            "73 В обработке:  9672 Удалено: 0 Сохранено:  7008\n",
            "74 В обработке:  9672 Удалено: 0 Сохранено:  7104\n",
            "75 В обработке:  9672 Удалено: 0 Сохранено:  7200\n",
            "76 В обработке:  9672 Удалено: 0 Сохранено:  7296\n",
            "77 В обработке:  9672 Удалено: 0 Сохранено:  7392\n",
            "78 В обработке:  9672 Удалено: 0 Сохранено:  7488\n",
            "79 В обработке:  9672 Удалено: 0 Сохранено:  7584\n",
            "80 В обработке:  9672 Удалено: 0 Сохранено:  7680\n",
            "81 В обработке:  9672 Удалено: 0 Сохранено:  7776\n",
            "82 В обработке:  9672 Удалено: 0 Сохранено:  7872\n",
            "83 В обработке:  9672 Удалено: 0 Сохранено:  7968\n",
            "84 В обработке:  9672 Удалено: 0 Сохранено:  8064\n",
            "85 В обработке:  9672 Удалено: 0 Сохранено:  8160\n",
            "86 В обработке:  9672 Удалено: 0 Сохранено:  8256\n",
            "87 В обработке:  9672 Удалено: 0 Сохранено:  8352\n",
            "88 В обработке:  9672 Удалено: 0 Сохранено:  8448\n",
            "89 В обработке:  9672 Удалено: 0 Сохранено:  8544\n",
            "90 В обработке:  9672 Удалено: 0 Сохранено:  8640\n",
            "91 В обработке:  9672 Удалено: 0 Сохранено:  8736\n",
            "92 В обработке:  9672 Удалено: 0 Сохранено:  8832\n",
            "93 В обработке:  9672 Удалено: 0 Сохранено:  8928\n",
            "94 В обработке:  9672 Удалено: 0 Сохранено:  9024\n",
            "95 В обработке:  9672 Удалено: 0 Сохранено:  9120\n",
            "96 В обработке:  9672 Удалено: 0 Сохранено:  9216\n",
            "97 В обработке:  9672 Удалено: 0 Сохранено:  9312\n",
            "98 В обработке:  9672 Удалено: 0 Сохранено:  9408\n",
            "99 В обработке:  9672 Удалено: 0 Сохранено:  9504\n",
            "100 В обработке:  9672 Удалено: 0 Сохранено:  9600\n",
            "Предложений:  9672\n"
          ]
        }
      ]
    },
    {
      "cell_type": "code",
      "metadata": {
        "id": "AjLAjCi4RlSW",
        "colab": {
          "base_uri": "https://localhost:8080/"
        },
        "outputId": "d6ac2438-5fcd-46d5-83ec-b062d6f038b9"
      },
      "source": [
        "# замена не вошедших в словарь слов спец. словом и удаление предложений содержащих много замененных слов\n",
        "DEL_sentences=0\n",
        "len_texts = len(text_processed)\n",
        "i=0\n",
        "ii=0\n",
        "while i < len(text_processed):\n",
        "  if(ii%(len_texts//100) == 0):\n",
        "    print(ii//(len_texts//100), u'В обработке: ', len(text_processed), u\"Удалено:\", DEL_sentences, u'Сохранено: ', ii-DEL_sentences)\n",
        "  \n",
        "  text_processed[i] = text_processed[i][:max_n_sent] # удаление лишней части предложения\n",
        "\n",
        "  ln_n = len(text_processed[i])\n",
        "  ln_s = 0\n",
        "  j=0\n",
        "  while j < ln_n:\n",
        "    if(text_processed[i][j] not in word):\n",
        "      #del(text_processed[i][j]) continue\n",
        "      text_processed[i][j] = '_UNK_' #замена слов\n",
        "      ln_s+=1\n",
        "    j+=1\n",
        "  if(ln_s>0):#ln_n*0.05):#если больше, чем N слов в примере не вошло в словарь, удалить пример\n",
        "    del(text_processed[i])\n",
        "    DEL_sentences+=1\n",
        "  else:\n",
        "    i+=1\n",
        "  ii+=1\n",
        "print(\"Удалено предложений (с недостающими словами):\", DEL_sentences)\n",
        "print('Осталось предложений: ', len(text_processed))"
      ],
      "execution_count": null,
      "outputs": [
        {
          "output_type": "stream",
          "name": "stdout",
          "text": [
            "0 В обработке:  9672 Удалено: 0 Сохранено:  0\n",
            "1 В обработке:  9672 Удалено: 0 Сохранено:  96\n",
            "2 В обработке:  9672 Удалено: 0 Сохранено:  192\n",
            "3 В обработке:  9672 Удалено: 0 Сохранено:  288\n",
            "4 В обработке:  9672 Удалено: 0 Сохранено:  384\n",
            "5 В обработке:  9672 Удалено: 0 Сохранено:  480\n",
            "6 В обработке:  9672 Удалено: 0 Сохранено:  576\n",
            "7 В обработке:  9672 Удалено: 0 Сохранено:  672\n",
            "8 В обработке:  9672 Удалено: 0 Сохранено:  768\n",
            "9 В обработке:  9672 Удалено: 0 Сохранено:  864\n",
            "10 В обработке:  9672 Удалено: 0 Сохранено:  960\n",
            "11 В обработке:  9672 Удалено: 0 Сохранено:  1056\n",
            "12 В обработке:  9672 Удалено: 0 Сохранено:  1152\n",
            "13 В обработке:  9672 Удалено: 0 Сохранено:  1248\n",
            "14 В обработке:  9672 Удалено: 0 Сохранено:  1344\n",
            "15 В обработке:  9672 Удалено: 0 Сохранено:  1440\n",
            "16 В обработке:  9672 Удалено: 0 Сохранено:  1536\n",
            "17 В обработке:  9672 Удалено: 0 Сохранено:  1632\n",
            "18 В обработке:  9672 Удалено: 0 Сохранено:  1728\n",
            "19 В обработке:  9672 Удалено: 0 Сохранено:  1824\n",
            "20 В обработке:  9672 Удалено: 0 Сохранено:  1920\n",
            "21 В обработке:  9672 Удалено: 0 Сохранено:  2016\n",
            "22 В обработке:  9672 Удалено: 0 Сохранено:  2112\n",
            "23 В обработке:  9672 Удалено: 0 Сохранено:  2208\n",
            "24 В обработке:  9672 Удалено: 0 Сохранено:  2304\n",
            "25 В обработке:  9672 Удалено: 0 Сохранено:  2400\n",
            "26 В обработке:  9672 Удалено: 0 Сохранено:  2496\n",
            "27 В обработке:  9672 Удалено: 0 Сохранено:  2592\n",
            "28 В обработке:  9672 Удалено: 0 Сохранено:  2688\n",
            "29 В обработке:  9672 Удалено: 0 Сохранено:  2784\n",
            "30 В обработке:  9672 Удалено: 0 Сохранено:  2880\n",
            "31 В обработке:  9672 Удалено: 0 Сохранено:  2976\n",
            "32 В обработке:  9672 Удалено: 0 Сохранено:  3072\n",
            "33 В обработке:  9672 Удалено: 0 Сохранено:  3168\n",
            "34 В обработке:  9672 Удалено: 0 Сохранено:  3264\n",
            "35 В обработке:  9672 Удалено: 0 Сохранено:  3360\n",
            "36 В обработке:  9672 Удалено: 0 Сохранено:  3456\n",
            "37 В обработке:  9672 Удалено: 0 Сохранено:  3552\n",
            "38 В обработке:  9672 Удалено: 0 Сохранено:  3648\n",
            "39 В обработке:  9672 Удалено: 0 Сохранено:  3744\n",
            "40 В обработке:  9672 Удалено: 0 Сохранено:  3840\n",
            "41 В обработке:  9672 Удалено: 0 Сохранено:  3936\n",
            "42 В обработке:  9672 Удалено: 0 Сохранено:  4032\n",
            "43 В обработке:  9672 Удалено: 0 Сохранено:  4128\n",
            "44 В обработке:  9672 Удалено: 0 Сохранено:  4224\n",
            "45 В обработке:  9672 Удалено: 0 Сохранено:  4320\n",
            "46 В обработке:  9672 Удалено: 0 Сохранено:  4416\n",
            "47 В обработке:  9672 Удалено: 0 Сохранено:  4512\n",
            "48 В обработке:  9672 Удалено: 0 Сохранено:  4608\n",
            "49 В обработке:  9672 Удалено: 0 Сохранено:  4704\n",
            "50 В обработке:  9672 Удалено: 0 Сохранено:  4800\n",
            "51 В обработке:  9672 Удалено: 0 Сохранено:  4896\n",
            "52 В обработке:  9672 Удалено: 0 Сохранено:  4992\n",
            "53 В обработке:  9672 Удалено: 0 Сохранено:  5088\n",
            "54 В обработке:  9672 Удалено: 0 Сохранено:  5184\n",
            "55 В обработке:  9672 Удалено: 0 Сохранено:  5280\n",
            "56 В обработке:  9672 Удалено: 0 Сохранено:  5376\n",
            "57 В обработке:  9672 Удалено: 0 Сохранено:  5472\n",
            "58 В обработке:  9672 Удалено: 0 Сохранено:  5568\n",
            "59 В обработке:  9672 Удалено: 0 Сохранено:  5664\n",
            "60 В обработке:  9672 Удалено: 0 Сохранено:  5760\n",
            "61 В обработке:  9672 Удалено: 0 Сохранено:  5856\n",
            "62 В обработке:  9672 Удалено: 0 Сохранено:  5952\n",
            "63 В обработке:  9672 Удалено: 0 Сохранено:  6048\n",
            "64 В обработке:  9672 Удалено: 0 Сохранено:  6144\n",
            "65 В обработке:  9672 Удалено: 0 Сохранено:  6240\n",
            "66 В обработке:  9672 Удалено: 0 Сохранено:  6336\n",
            "67 В обработке:  9672 Удалено: 0 Сохранено:  6432\n",
            "68 В обработке:  9672 Удалено: 0 Сохранено:  6528\n",
            "69 В обработке:  9672 Удалено: 0 Сохранено:  6624\n",
            "70 В обработке:  9672 Удалено: 0 Сохранено:  6720\n",
            "71 В обработке:  9672 Удалено: 0 Сохранено:  6816\n",
            "72 В обработке:  9672 Удалено: 0 Сохранено:  6912\n",
            "73 В обработке:  9672 Удалено: 0 Сохранено:  7008\n",
            "74 В обработке:  9672 Удалено: 0 Сохранено:  7104\n",
            "75 В обработке:  9672 Удалено: 0 Сохранено:  7200\n",
            "76 В обработке:  9672 Удалено: 0 Сохранено:  7296\n",
            "77 В обработке:  9672 Удалено: 0 Сохранено:  7392\n",
            "78 В обработке:  9672 Удалено: 0 Сохранено:  7488\n",
            "79 В обработке:  9672 Удалено: 0 Сохранено:  7584\n",
            "80 В обработке:  9672 Удалено: 0 Сохранено:  7680\n",
            "81 В обработке:  9672 Удалено: 0 Сохранено:  7776\n",
            "82 В обработке:  9672 Удалено: 0 Сохранено:  7872\n",
            "83 В обработке:  9672 Удалено: 0 Сохранено:  7968\n",
            "84 В обработке:  9672 Удалено: 0 Сохранено:  8064\n",
            "85 В обработке:  9672 Удалено: 0 Сохранено:  8160\n",
            "86 В обработке:  9672 Удалено: 0 Сохранено:  8256\n",
            "87 В обработке:  9672 Удалено: 0 Сохранено:  8352\n",
            "88 В обработке:  9672 Удалено: 0 Сохранено:  8448\n",
            "89 В обработке:  9672 Удалено: 0 Сохранено:  8544\n",
            "90 В обработке:  9672 Удалено: 0 Сохранено:  8640\n",
            "91 В обработке:  9672 Удалено: 0 Сохранено:  8736\n",
            "92 В обработке:  9672 Удалено: 0 Сохранено:  8832\n",
            "93 В обработке:  9672 Удалено: 0 Сохранено:  8928\n",
            "94 В обработке:  9672 Удалено: 0 Сохранено:  9024\n",
            "95 В обработке:  9672 Удалено: 0 Сохранено:  9120\n",
            "96 В обработке:  9672 Удалено: 0 Сохранено:  9216\n",
            "97 В обработке:  9672 Удалено: 0 Сохранено:  9312\n",
            "98 В обработке:  9672 Удалено: 0 Сохранено:  9408\n",
            "99 В обработке:  9672 Удалено: 0 Сохранено:  9504\n",
            "100 В обработке:  9672 Удалено: 0 Сохранено:  9600\n",
            "Удалено предложений (с недостающими словами): 0\n",
            "Осталось предложений:  9672\n"
          ]
        }
      ]
    },
    {
      "cell_type": "code",
      "metadata": {
        "id": "D3h69NYKUDoB"
      },
      "source": [
        "# преобразование текста в набор чисел\n",
        "for i in range(len(text_processed)):\n",
        "  for j in range(len(text_processed[i])):\n",
        "    text_processed[i][j] = vocab[text_processed[i][j]]"
      ],
      "execution_count": null,
      "outputs": []
    },
    {
      "cell_type": "code",
      "metadata": {
        "id": "Sn7bpq6vVnqv"
      },
      "source": [
        "# дополнение предложений до заданной длины заполнителем (' ' - пробелом)\n",
        "max_n_sent = max_n_sent\n",
        "for i in range(len(text_processed)):\n",
        "  while len(text_processed[i]) < max_n_sent:\n",
        "    text_processed[i].append(vocab[''])"
      ],
      "execution_count": null,
      "outputs": []
    },
    {
      "cell_type": "code",
      "metadata": {
        "id": "mpnuzc9vWrlW"
      },
      "source": [
        "import pickle\n",
        "obj = (word, vocab)\n",
        "output = open('/content/drive/My Drive/ВКР/SeqGAN/datasets/netflix_titles_vocab.pkl', 'wb')\n",
        "pickle.dump(obj, output, 2)\n",
        "output.close()"
      ],
      "execution_count": null,
      "outputs": []
    },
    {
      "cell_type": "code",
      "metadata": {
        "id": "Ntg-ZL6XXTRe",
        "colab": {
          "base_uri": "https://localhost:8080/"
        },
        "outputId": "d9dd7367-eef9-4424-9862-1ae00b60b1f6"
      },
      "source": [
        "print('Предложений: ', len(text_processed)) #112138 #214986\n",
        "for i in range(len(text_processed)):\n",
        "  text_processed[i] = ' '.join(map(str, text_processed[i]))\n",
        "# print('Предложений: ', len(text_processed)) #112138 #214986\n",
        "# text_processed = '\\n'.join(map(str, text_processed)) + '\\n'\n",
        "# print('Символов: ', len(text_processed)) #15224801 #29791310"
      ],
      "execution_count": null,
      "outputs": [
        {
          "output_type": "stream",
          "name": "stdout",
          "text": [
            "Предложений:  9672\n"
          ]
        }
      ]
    },
    {
      "cell_type": "code",
      "metadata": {
        "id": "jLhjbHgdYPBl",
        "colab": {
          "base_uri": "https://localhost:8080/"
        },
        "outputId": "4fbf6974-ace3-4a66-bedf-2b4da4b51945"
      },
      "source": [
        "print('\\n'.join(map(str, text_processed[:15])) + '\\n')"
      ],
      "execution_count": null,
      "outputs": [
        {
          "output_type": "stream",
          "name": "stdout",
          "text": [
            "19 10 62 3628 3 491 6 8 27 2 468 10460 4870 1921 8 107 7 4135 5 4136 428 4 65 59 244 200 3 7457 1 20659 20659 20659 20659 20659 20659 20659 20659 20659 20659 20659 20659 20659 20659 20659 20659 20659\n",
            "23 4871 442 28 0 352 2 0 4872 108 82 158 45 4 418 1106 0 7458 4137 154 20 10 221 24 241 1584 28 853 1 20659 20659 20659 20659 20659 20659 20659 20659 20659 20659 20659 20659 20659 20659 20659 20659 20659\n",
            "4 326 8 33 18 0 245 184 569 2 1415 779 7459 5 8 640 87 6 2628 49 2879 30 0 363 5 327 4138 99 1 20659 20659 20659 20659 20659 20659 20659 20659 20659 20659 20659 20659 20659 20659 20659 20659 20659\n",
            "7460 2 7461 5 4873 1002 181 100 659 3 2880 109 28 3 2069 364 730 7 31 2069 14 17 1679 214 48 1 20659 20659 20659 20659 20659 20659 20659 20659 20659 20659 20659 20659 20659 20659 20659 20659 20659 20659 20659 20659\n",
            "7 0 85 6 4139 2242 481 4 617 209 42 46 5912 10461 2070 2 12 4874 26 7462 129 5 8 44 353 2431 27 1 20659 20659 20659 20659 20659 20659 20659 20659 20659 20659 20659 20659 20659 20659 20659 20659 20659 20659\n",
            "3 1680 6 0 1107 29 1416 336 10462 5913 2 3238 1045 5 7463 1217 7464 4 0 1157 108 443 4 1798 1 20659 20659 20659 20659 20659 20659 20659 20659 20659 20659 20659 20659 20659 20659 20659 20659 20659 20659 20659 20659 20659\n",
            "3629 11 2881 1 20659 20659 20659 20659 20659 20659 20659 20659 20659 20659 20659 20659 20659 20659 20659 20659 20659 20659 20659 20659 20659 20659 20659 20659 20659 20659 20659 20659 20659 20659 20659 20659 20659 20659 20659 20659 20659 20659 20659 20659 20659 20659\n",
            "26 0 5914 972 2243 185 5915 2 10463 5 7465 2244 66 365 67 5 2 10464 4 246 2 36 42 46 270 4 418 51 1 20659 20659 20659 20659 20659 20659 20659 20659 20659 20659 20659 20659 20659 20659 20659 20659 20659\n",
            "14 0 2432 4875 7 10465 2 12 178 1108 4876 78 7 126 2 92 5916 14 0 4140 5 4141 1339 4 3 5917 6 10 2245 101 1 20659 20659 20659 20659 20659 20659 20659 20659 20659 20659 20659 20659 20659 20659 20659\n",
            "0 542 7466 6 1585 3239 200 110 7 0 10466 299 2 10467 35 15 114 1586 7 3 780 6 156 707 3 3240 11 114 1 20659 20659 20659 20659 20659 20659 20659 20659 20659 20659 20659 20659 20659 20659 20659 20659 20659\n",
            "0 41 10468 4 27 23 0 604 3241 9 0 4142 2629 25 11 543 94 10 2433 67 5 0 167 24 11 267 4 57 0 117 2630 1 20659 20659 20659 20659 20659 20659 20659 20659 20659 20659 20659 20659 20659 20659\n",
            "7467 10469 0 1494 54 10470 56 10471 1 20659 20659 20659 20659 20659 20659 20659 20659 20659 20659 20659 20659 20659 20659 20659 20659 20659 20659 20659 20659 20659 20659 20659 20659 20659 20659 20659 20659 20659 20659 20659 20659 20659 20659 20659 20659 20659\n",
            "26 179 1681 16 504 300 4 322 100 1682 118 49 618 6 156 660 293 217 20659 20659 20659 20659 20659 20659 20659 20659 20659 20659 20659 20659 20659 20659 20659 20659 20659 20659 20659 20659 20659 20659 20659 20659 20659 20659 20659 20659\n",
            "267 4 1495 0 227 7 2434 2 0 38 317 12 3242 261 1109 5 831 21 47 1218 0 5918 544 1 20659 20659 20659 20659 20659 20659 20659 20659 20659 20659 20659 20659 20659 20659 20659 20659 20659 20659 20659 20659 20659 20659\n",
            "23 144 6 10 33 20 708 7 0 520 3243 2 0 29 41 20 5919 2246 30 2071 3 641 72 25 619 59 1 20659 20659 20659 20659 20659 20659 20659 20659 20659 20659 20659 20659 20659 20659 20659 20659 20659 20659 20659\n",
            "\n"
          ]
        }
      ]
    },
    {
      "cell_type": "code",
      "metadata": {
        "id": "mWr5BX9lKCV5",
        "colab": {
          "base_uri": "https://localhost:8080/"
        },
        "outputId": "c48fae86-a8cd-4645-bcad-a93425a510ef"
      },
      "source": [
        "from random import shuffle\n",
        "shuffle(text_processed)\n",
        "\n",
        "print('Примеров: ', len(text_processed))"
      ],
      "execution_count": null,
      "outputs": [
        {
          "output_type": "stream",
          "name": "stdout",
          "text": [
            "Примеров:  9672\n"
          ]
        }
      ]
    },
    {
      "cell_type": "code",
      "source": [
        "text_file = open(u\"/content/drive/My Drive/ВКР/SeqGAN/datasets/netflix_titles_train.txt\", \"w\")\n",
        "text_file.write('\\n'.join(map(str, text_processed[:int(len(text_processed)*0.9)])) + '\\n')\n",
        "text_file.close()\n",
        "\n",
        "text_file = open(u\"/content/drive/My Drive/ВКР/SeqGAN/datasets/netflix_titles_test.txt\", \"w\")\n",
        "text_file.write('\\n'.join(map(str, text_processed[int(len(text_processed)*0.9):])) + '\\n')\n",
        "text_file.close()"
      ],
      "metadata": {
        "id": "Td1VKYMkv7ry"
      },
      "execution_count": null,
      "outputs": []
    },
    {
      "cell_type": "code",
      "metadata": {
        "id": "G6gMz5HKYcex",
        "colab": {
          "base_uri": "https://localhost:8080/"
        },
        "outputId": "05ef76dd-f346-44df-e730-3462a9d9cfa6"
      },
      "source": [
        "print(text_processed[:10])"
      ],
      "execution_count": null,
      "outputs": [
        {
          "output_type": "stream",
          "name": "stdout",
          "text": [
            "['386 5534 12833 298 803 2 160 2 1045 5 5556 2 2778 4631 3865 9 65 18 8 2578 901 1 20659 20659 20659 20659 20659 20659 20659 20659 20659 20659 20659 20659 20659 20659 20659 20659 20659 20659 20659 20659 20659 20659 20659 20659', '131 0 1484 109 2579 75 786 7 3 1095 6 19698 1 20659 20659 20659 20659 20659 20659 20659 20659 20659 20659 20659 20659 20659 20659 20659 20659 20659 20659 20659 20659 20659 20659 20659 20659 20659 20659 20659 20659 20659 20659 20659 20659 20659', '5740 3 1618 6 10 249 33 2 0 29 41 2106 19 12 937 168 129 5 1205 442 9 0 9556 685 154 28 58 1 20659 20659 20659 20659 20659 20659 20659 20659 20659 20659 20659 20659 20659 20659 20659 20659 20659 20659', '17 432 1900 541 5 237 910 1155 18 180 3 37 2 19 1105 19 3 1945 5 1915 63 32 4459 1 20659 20659 20659 20659 20659 20659 20659 20659 20659 20659 20659 20659 20659 20659 20659 20659 20659 20659 20659 20659 20659 20659', '16 0 634 2719 124 13 0 528 197 16593 2 15 140 174 1614 1 20659 20659 20659 20659 20659 20659 20659 20659 20659 20659 20659 20659 20659 20659 20659 20659 20659 20659 20659 20659 20659 20659 20659 20659 20659 20659 20659 20659 20659 20659', '7 17 161 141 14 0 5269 1500 2 3 407 6 0 750 178 255 49 3045 4 1151 4473 13 0 96 32 220 251 98 2195 1 20659 20659 20659 20659 20659 20659 20659 20659 20659 20659 20659 20659 20659 20659 20659 20659', '8 929 241 11124 11125 2 5 21 11126 8 815 1 20659 20659 20659 20659 20659 20659 20659 20659 20659 20659 20659 20659 20659 20659 20659 20659 20659 20659 20659 20659 20659 20659 20659 20659 20659 20659 20659 20659 20659 20659 20659 20659 20659 20659', '18 556 11 2770 4 3311 11 19797 3797 2 17 911 6 5295 9308 298 3 836 1014 6 665 7368 1950 1 20659 20659 20659 20659 20659 20659 20659 20659 20659 20659 20659 20659 20659 20659 20659 20659 20659 20659 20659 20659 20659 20659', '23 3 37 11 455 726 4785 2 1246 10092 1013 4015 2304 9 0 33 2270 5 113 1342 35 7 0 2168 544 1 20659 20659 20659 20659 20659 20659 20659 20659 20659 20659 20659 20659 20659 20659 20659 20659 20659 20659 20659 20659', '0 485 524 20 9907 22 492 11 1257 1634 4 334 0 93 2745 1568 6896 3 4326 11 144 539 184 1174 1 20659 20659 20659 20659 20659 20659 20659 20659 20659 20659 20659 20659 20659 20659 20659 20659 20659 20659 20659 20659 20659']\n"
          ]
        }
      ]
    },
    {
      "cell_type": "code",
      "metadata": {
        "id": "MfnrBeQCiUQg",
        "colab": {
          "base_uri": "https://localhost:8080/"
        },
        "outputId": "5b9ff4c8-c949-47ab-bfd8-25fb3b51399d"
      },
      "source": [
        "print(vocab[''], vocab['i'], word[-1], word[20658])"
      ],
      "execution_count": null,
      "outputs": [
        {
          "output_type": "stream",
          "name": "stdout",
          "text": [
            "20659 2470 _START_ roughneck\n"
          ]
        }
      ]
    }
  ]
}